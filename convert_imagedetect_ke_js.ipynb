{
  "nbformat": 4,
  "nbformat_minor": 0,
  "metadata": {
    "colab": {
      "provenance": []
    },
    "kernelspec": {
      "name": "python3",
      "display_name": "Python 3"
    },
    "language_info": {
      "name": "python"
    }
  },
  "cells": [
    {
      "cell_type": "code",
      "execution_count": null,
      "metadata": {
        "id": "-qIeKLae0jgD"
      },
      "outputs": [],
      "source": [
        "<!DOCTYPE html>\n",
        "<html>\n",
        "<head>\n",
        "  <title>Fashion Image Classification</title>\n",
        "  <script src=\"https://cdn.jsdelivr.net/npm/@tensorflow/tfjs@3.10.0/dist/tf.js\"></script>\n",
        "  <script src=\"https://cdn.jsdelivr.net/npm/@tensorflow/tfjs-converter@3.10.0/dist/tfjs-converter.js\"></script>\n",
        "</head>\n",
        "<body>\n",
        "  <input type=\"file\" id=\"image-selector\" onchange=\"loadImage(event)\" accept=\"image/*\">\n",
        "  <div>\n",
        "    <h3>Prediction:</h3>\n",
        "    <p id=\"prediction-result\"></p>\n",
        "  </div>\n",
        "</body>\n",
        "<script>\n",
        "  // Fungsi untuk memuat gambar yang dipilih oleh pengguna\n",
        "  function loadImage(event) {\n",
        "    var image = document.createElement('img');\n",
        "    image.src = URL.createObjectURL(event.target.files[0]);\n",
        "    image.onload = async function() {\n",
        "      await tf.ready();\n",
        "      const model = await tf.loadLayersModel('model/model.json');\n",
        "\n",
        "      // Mengubah gambar menjadi tensor\n",
        "      const tensor = preprocessImage(image);\n",
        "\n",
        "      // Melakukan prediksi\n",
        "      const predictions = await model.predict(tensor).data();\n",
        "      const predictedClass = Array.from(predictions).indexOf(Math.max(...predictions));\n",
        "\n",
        "      // Mengambil label prediksi\n",
        "      const labels = await fetch('model/labels.json');\n",
        "      const labelData = await labels.json();\n",
        "      const predictedLabel = labelData[predictedClass];\n",
        "\n",
        "      // Menampilkan hasil prediksi\n",
        "      document.getElementById('prediction-result').innerHTML = predictedLabel;\n",
        "    };\n",
        "  }\n",
        "\n",
        "  // Fungsi untuk memproses gambar sebelum melakukan prediksi\n",
        "  function preprocessImage(image) {\n",
        "    // Mengubah ukuran gambar menjadi 28x28\n",
        "    const canvas = document.createElement('canvas');\n",
        "    canvas.width = 28;\n",
        "    canvas.height = 28;\n",
        "    const ctx = canvas.getContext('2d');\n",
        "    ctx.drawImage(image, 0, 0, 28, 28);\n",
        "    const imageData = ctx.getImageData(0, 0, 28, 28);\n",
        "\n",
        "    // Mengubah data piksel menjadi rentang [0, 1]\n",
        "    const data = imageData.data;\n",
        "    let imagePixels = [];\n",
        "    for (let i = 0; i < data.length; i += 4) {\n",
        "      const r = data[i] / 255;\n",
        "      const g = data[i + 1] / 255;\n",
        "      const b = data[i + 2] / 255;\n",
        "      const grayScale = (r + g + b) / 3;\n",
        "      imagePixels.push(grayScale);\n",
        "    }\n",
        "\n",
        "    // Mengubah array piksel menjadi tensor 2D\n",
        "    const tensor = tf.tensor2d(imagePixels, [1, 784]);\n",
        "\n",
        "    return tensor;\n",
        "  }\n",
        "</script>\n",
        "</html>\n"
      ]
    }
  ]
}