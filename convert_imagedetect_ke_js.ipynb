{
  "cells": [
    {
      "cell_type": "code",
      "execution_count": null,
      "metadata": {
        "id": "-qIeKLae0jgD"
      },
      "outputs": [],
      "source": [
        "const tf = require('@tensorflow/tfjs-node');\n",
        "const cv = require('opencv4nodejs');\n",
        "const fs = require('fs');\n",
        "const { promisify } = require('util');\n",
        "const path = require('path');\n",
        "\n",
        "const readFile = promisify(fs.readFile);\n",
        "\n",
        "async function loadModel() {\n",
        "  const modelPath = 'file://path/to/model'; // Ganti dengan path yang sesuai ke model yang telah Anda simpan\n",
        "  const model = await tf.loadLayersModel(modelPath);\n",
        "  return model;\n",
        "}\n",
        "\n",
        "function preprocessImage(image) {\n",
        "  const resizedImage = image.resize(28, 28);\n",
        "  const grayImage = resizedImage.cvtColor(cv.COLOR_BGR2GRAY);\n",
        "  const normalizedImage = grayImage.normalize(0, 255).toFloat().expandDims();\n",
        "  return normalizedImage;\n",
        "}\n",
        "\n",
        "async function predictImage(model, image) {\n",
        "  const preprocessedImage = preprocessImage(image);\n",
        "  const predictions = await model.predict(preprocessedImage).data();\n",
        "  const predictedClass = Array.from(predictions).indexOf(Math.max(...predictions));\n",
        "  return predictedClass;\n",
        "}\n",
        "\n",
        "async function run() {\n",
        "  const model = await loadModel();\n",
        "\n",
        "  const imageFilePath = 'path/to/image.jpg'; // Ganti dengan path yang sesuai ke gambar yang ingin diprediksi\n",
        "  const imageBuffer = await readFile(imageFilePath);\n",
        "  const image = cv.imdecode(imageBuffer);\n",
        "\n",
        "  const predictedClass = await predictImage(model, image);\n",
        "\n",
        "  const stylesFilePath = 'path/to/styles.csv'; // Ganti dengan path yang sesuai ke file styles.csv Anda\n",
        "  const stylesBuffer = await readFile(stylesFilePath, 'utf-8');\n",
        "  const styles = stylesBuffer.split('\\n').map(row => row.split(','));\n",
        "  const label = styles[predictedClass][0];\n",
        "\n",
        "  console.log('Predicted Label:', label);\n",
        "}\n",
        "\n",
        "run().catch(console.error);\n"
      ]
    }
  ],
  "metadata": {
    "colab": {
      "provenance": []
    },
    "kernelspec": {
      "display_name": "Python 3",
      "name": "python3"
    },
    "language_info": {
      "name": "python"
    }
  },
  "nbformat": 4,
  "nbformat_minor": 0
}
