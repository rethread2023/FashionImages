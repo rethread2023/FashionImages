{
 "cells": [
  {
   "cell_type": "code",
   "execution_count": 29,
   "metadata": {},
   "outputs": [],
   "source": [
    "import os\n",
    "import pandas as pd\n",
    "import numpy as np\n",
    "import tensorflow as tf\n",
    "from tensorflow.keras.models import Sequential\n",
    "from tensorflow.keras.layers import Conv2D, MaxPooling2D, Flatten, Dense, Dropout\n",
    "from sklearn.model_selection import train_test_split\n",
    "from sklearn.preprocessing import LabelEncoder\n",
    "import cv2\n",
    "\n",
    "# Path ke folder dataset\n",
    "dataset_folder = 'images/'\n",
    "\n",
    "# Path ke file styles.csv\n",
    "styles_file = 'styles.csv'\n",
    "\n",
    "# Membaca data dari file styles.csv\n",
    "data = pd.read_csv(styles_file)\n",
    "\n",
    "# Membaca gambar dan label dari folder dataset\n",
    "images = []\n",
    "\n",
    "\n",
    "# Memuat label ke dalam variabel\n",
    "label_csv = data['articleType']\n",
    "\n",
    "\n",
    "# Mengonversi label FashionImage menjadi tipe data string\n",
    "label_csv = label_csv.astype(str)\n",
    "\n",
    "# Menggabungkan gambar dari folder 'images' dengan dataset MNIST\n",
    "image_folder = 'images/'\n",
    "\n",
    "for filename in os.listdir(image_folder):\n",
    "    image_path = os.path.join(image_folder, filename)\n",
    "    image = cv2.imread(image_path)\n",
    "    image = cv2.cvtColor(image, cv2.COLOR_BGR2GRAY)  # Mengubah gambar menjadi skala abu-abu (grayscale)\n",
    "    image = cv2.resize(image, (28, 28))  # Menyesuaikan dimensi gambar menjadi 28x28\n",
    "    image = np.expand_dims(image, axis=-1)  # Menambahkan dimensi kanal (1) pada gambar\n",
    "    images.append(image)\n",
    "\n",
    "# Konversi data gambar menjadi array numpy\n",
    "images_data = np.array(images)"
   ]
  },
  {
   "cell_type": "code",
   "execution_count": 30,
   "metadata": {},
   "outputs": [
    {
     "name": "stdout",
     "output_type": "stream",
     "text": [
      "jumlah gambar  (44441, 28, 28, 1)\n",
      "jumlah label  (44441,)\n"
     ]
    }
   ],
   "source": [
    "# Mengubah label menjadi angka menggunakan LabelEncoder\n",
    "label_encoder = LabelEncoder()\n",
    "labels = label_encoder.fit_transform(label_csv)\n",
    "num_classes = len(label_encoder.classes_)\n",
    "\n",
    "#mengetahui jumlah data\n",
    "print('jumlah gambar ', images_data.shape)\n",
    "print('jumlah label ', label_csv.shape)\n"
   ]
  },
  {
   "cell_type": "code",
   "execution_count": 36,
   "metadata": {},
   "outputs": [
    {
     "name": "stdout",
     "output_type": "stream",
     "text": [
      "Epoch 1/10\n",
      "556/556 [==============================] - 133s 237ms/step - loss: 2.5716 - accuracy: 0.3571 - val_loss: 1.5582 - val_accuracy: 0.5735\n",
      "Epoch 2/10\n",
      "556/556 [==============================] - 133s 239ms/step - loss: 1.5606 - accuracy: 0.5766 - val_loss: 1.2554 - val_accuracy: 0.6578\n",
      "Epoch 3/10\n",
      "556/556 [==============================] - 133s 238ms/step - loss: 1.2915 - accuracy: 0.6407 - val_loss: 1.0563 - val_accuracy: 0.6963\n",
      "Epoch 4/10\n",
      "556/556 [==============================] - 138s 249ms/step - loss: 1.1409 - accuracy: 0.6778 - val_loss: 0.9629 - val_accuracy: 0.7208\n",
      "Epoch 5/10\n",
      "556/556 [==============================] - 133s 238ms/step - loss: 1.0437 - accuracy: 0.6982 - val_loss: 0.8977 - val_accuracy: 0.7323\n",
      "Epoch 6/10\n",
      "556/556 [==============================] - 130s 233ms/step - loss: 0.9682 - accuracy: 0.7150 - val_loss: 0.8686 - val_accuracy: 0.7334\n",
      "Epoch 7/10\n",
      "556/556 [==============================] - 131s 235ms/step - loss: 0.9110 - accuracy: 0.7296 - val_loss: 0.8059 - val_accuracy: 0.7516\n",
      "Epoch 8/10\n",
      "556/556 [==============================] - 132s 237ms/step - loss: 0.8616 - accuracy: 0.7414 - val_loss: 0.7984 - val_accuracy: 0.7523\n",
      "Epoch 9/10\n",
      "556/556 [==============================] - 129s 232ms/step - loss: 0.8255 - accuracy: 0.7502 - val_loss: 0.7838 - val_accuracy: 0.7647\n",
      "Epoch 10/10\n",
      "556/556 [==============================] - 137s 246ms/step - loss: 0.7828 - accuracy: 0.7623 - val_loss: 0.7663 - val_accuracy: 0.7660\n",
      "139/139 [==============================] - 4s 31ms/step - loss: 0.7465 - accuracy: 0.7786\n",
      "Test Loss: 0.7464596033096313\n",
      "Test Accuracy: 0.7785778641700745\n"
     ]
    }
   ],
   "source": [
    "# Membagi dataset menjadi data training, data test, dan data validasi\n",
    "x_train, x_test, y_train, y_test = train_test_split(images_data, labels, test_size=0.2, random_state=42)\n",
    "x_test, x_val, y_test, y_val = train_test_split(x_test, y_test, test_size=0.5, random_state=42)\n",
    "\n",
    "# Normalisasi pixel gambar menjadi rentang [0, 1]\n",
    "x_train = x_train.astype('float32') / 255\n",
    "x_test = x_test.astype('float32') / 255\n",
    "x_val = x_val.astype('float32') / 255\n",
    "\n",
    "# Membangun arsitektur model\n",
    "model = tf.keras.Sequential([\n",
    "    tf.keras.layers.Conv2D(64, (3, 3), activation='relu', input_shape=(28, 28, 1)),\n",
    "    tf.keras.layers.MaxPooling2D((2,2)),\n",
    "    tf.keras.layers.Conv2D(128, (3,3), activation='relu'),\n",
    "    tf.keras.layers.MaxPooling2D((2,2)),\n",
    "    tf.keras.layers.Conv2D(256, (3,3), activation='relu'),\n",
    "    tf.keras.layers.MaxPooling2D((2,2)),\n",
    "    tf.keras.layers.Flatten(),\n",
    "    tf.keras.layers.Dense(128, activation='relu'),\n",
    "    tf.keras.layers.Dropout(0.5),\n",
    "    tf.keras.layers.Dense(num_classes, activation='softmax')\n",
    "]) \n",
    "\n",
    "# Kompilasi model\n",
    "model.compile(optimizer=tf.keras.optimizers.Adam(learning_rate=0.001),\n",
    "              loss='sparse_categorical_crossentropy',\n",
    "              metrics=['accuracy'])\n",
    "\n",
    "# Pelatihan model\n",
    "model.fit(x_train, y_train, batch_size=64, epochs=10, validation_data=(x_val, y_val))\n",
    "\n",
    "# Evaluasi model pada data test\n",
    "test_loss, test_acc = model.evaluate(x_test, y_test)\n",
    "print('Test Loss:', test_loss)\n",
    "print('Test Accuracy:', test_acc)\n"
   ]
  },
  {
   "cell_type": "code",
   "execution_count": null,
   "metadata": {},
   "outputs": [],
   "source": [
    "# Simpan model\n",
    "model.save('image_classification_model.h5')\n"
   ]
  }
 ],
 "metadata": {
  "kernelspec": {
   "display_name": "Python 3",
   "language": "python",
   "name": "python3"
  },
  "language_info": {
   "codemirror_mode": {
    "name": "ipython",
    "version": 3
   },
   "file_extension": ".py",
   "mimetype": "text/x-python",
   "name": "python",
   "nbconvert_exporter": "python",
   "pygments_lexer": "ipython3",
   "version": "3.10.7"
  },
  "orig_nbformat": 4
 },
 "nbformat": 4,
 "nbformat_minor": 2
}
