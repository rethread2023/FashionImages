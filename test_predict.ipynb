{
 "cells": [
  {
   "cell_type": "code",
   "execution_count": 11,
   "id": "14bd846a",
   "metadata": {},
   "outputs": [],
   "source": [
    "import tensorflow as tf\n",
    "import cv2\n",
    "import tensorflow_hub as hub\n",
    "import requests\n",
    "import os\n",
    "import numpy as np\n",
    "import pandas as pd\n",
    "from sklearn.preprocessing import LabelEncoder\n",
    "from flask import Flask, jsonify\n",
    "import json"
   ]
  },
  {
   "cell_type": "code",
   "execution_count": 3,
   "id": "8f7977e8",
   "metadata": {},
   "outputs": [],
   "source": [
    "# Path ke folder dataset\n",
    "dataset_folder = 'images/'\n",
    "\n",
    "# Path ke file styles.csv\n",
    "styles_file = 'styles.csv'\n",
    "\n",
    "# Membaca data dari file styles.csv\n",
    "data = pd.read_csv(styles_file)\n",
    "\n",
    "# Membaca gambar dan label dari folder dataset\n",
    "images = []\n",
    "\n",
    "# Memuat label ke dalam variabel\n",
    "label_csv = data['articleType']\n",
    "\n",
    "# Mengonversi label FashionImage menjadi tipe data string\n",
    "label_csv = label_csv.astype(str)\n",
    "\n",
    "# Menggabungkan gambar dari folder 'images' dengan dataset MNIST\n",
    "image_folder = 'images/'"
   ]
  },
  {
   "cell_type": "code",
   "execution_count": 8,
   "id": "bc84d9ff",
   "metadata": {},
   "outputs": [
    {
     "data": {
      "text/plain": [
       "array([109, 109, 109, ..., 126, 126, 126])"
      ]
     },
     "execution_count": 8,
     "metadata": {},
     "output_type": "execute_result"
    }
   ],
   "source": [
    "model = tf.keras.models.load_model(\n",
    "    \"image_classification_model.h5\",\n",
    "    custom_objects={\"KerasLayer\": hub.KerasLayer})\n",
    "label_encoder = LabelEncoder()\n",
    "label_encoder.fit_transform(label_csv)"
   ]
  },
  {
   "cell_type": "code",
   "execution_count": 35,
   "id": "8be27527",
   "metadata": {},
   "outputs": [],
   "source": [
    "# Create a Flask application\n",
    "# app = Flask(__name__)"
   ]
  },
  {
   "cell_type": "code",
   "execution_count": 12,
   "id": "398b54c8",
   "metadata": {},
   "outputs": [],
   "source": [
    "# @app.route('/predict', methods=['POST'])\n",
    "def predict(image_url):\n",
    "    r = requests.get(image_url)\n",
    "    # os.write(r)\n",
    "\n",
    "    with open('uploaded/image.jpg', 'wb') as f:\n",
    "        f.write(r.content)\n",
    "\n",
    "    ## Membaca gambar\n",
    "    image = cv2.imread(\"uploaded/image.jpg\")\n",
    "    image = cv2.cvtColor(image, cv2.COLOR_BGR2GRAY)\n",
    "    image = cv2.resize(image, (28, 28))\n",
    "    image = np.expand_dims(image, axis=-1)\n",
    "    image = image.astype('float32') / 255\n",
    "\n",
    "    ## Melakukan prediksi\n",
    "    predictions = model.predict(np.array([image]))\n",
    "    predicted_class = np.argmax(predictions)\n",
    "\n",
    "    ## Mengonversi kelas prediksi menjadi label\n",
    "    predicted_label = label_encoder.classes_[predicted_class]\n",
    "\n",
    "    # Menampilkan hasil prediksi\n",
    "    print('Predicted Label:', predicted_label)\n",
    "    \n",
    "    # Create a dictionary with the prediction\n",
    "    result = {\n",
    "        'predicted_label': predicted_label\n",
    "    }\n",
    "\n",
    "    # Convert the dictionary to JSON\n",
    "    json_data = json.dumps(result)\n",
    "\n",
    "    # Write the JSON data to a file\n",
    "    with open('prediction.json', 'w') as json_file:\n",
    "        json_file.write(json_data)"
   ]
  },
  {
   "cell_type": "code",
   "execution_count": 14,
   "id": "939cfc3d",
   "metadata": {},
   "outputs": [
    {
     "name": "stdout",
     "output_type": "stream",
     "text": [
      "1/1 [==============================] - 0s 24ms/step\n",
      "Predicted Label: Capris\n"
     ]
    }
   ],
   "source": [
    "link = \"https://cf.shopee.co.id/file/495b41bc9054f98b2aac93f4f0d19cf0\"\n",
    "predict(link)"
   ]
  }
 ],
 "metadata": {
  "kernelspec": {
   "display_name": "Python 3 (ipykernel)",
   "language": "python",
   "name": "python3"
  },
  "language_info": {
   "codemirror_mode": {
    "name": "ipython",
    "version": 3
   },
   "file_extension": ".py",
   "mimetype": "text/x-python",
   "name": "python",
   "nbconvert_exporter": "python",
   "pygments_lexer": "ipython3",
   "version": "3.9.13"
  }
 },
 "nbformat": 4,
 "nbformat_minor": 5
}
